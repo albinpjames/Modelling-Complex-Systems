{
 "cells": [
  {
   "cell_type": "code",
   "execution_count": 1,
   "id": "6f91dec9-cae9-4eec-a979-06d517a5c127",
   "metadata": {},
   "outputs": [],
   "source": [
    "import matplotlib\n",
    "matplotlib.use('TkAgg')\n",
    "from pylab import *\n",
    "import pycxsimulator\n",
    "\n",
    "import random as rd\n",
    "n =1000\n",
    "sd = 0.1\n",
    "\n",
    "def initialize():\n",
    "    global xlist, ylist\n",
    "    xlist = []\n",
    "    ylist = []\n",
    "    for i in range(n):\n",
    "        xlist.append(rd.gauss(0,1))\n",
    "        ylist.append(rd.gauss(0,1))\n",
    "\n",
    "def observe():\n",
    "    global xlist, ylist\n",
    "    cla()\n",
    "    plot(xlist, ylist, '.')\n",
    "\n",
    "def update():\n",
    "    global xlist, ylist\n",
    "    for i in range(n):\n",
    "        xlist[i] += rd.gauss(0,0.1)\n",
    "        ylist[i] += rd.gauss(0,0.1)"
   ]
  },
  {
   "cell_type": "code",
   "execution_count": 2,
   "id": "12b8c8e0-7092-4a22-b01b-0532cd1adf2a",
   "metadata": {},
   "outputs": [
    {
     "ename": "NameError",
     "evalue": "name 'wayland' is not defined",
     "output_type": "error",
     "traceback": [
      "\u001b[0;31m---------------------------------------------------------------------------\u001b[0m",
      "\u001b[0;31mNameError\u001b[0m                                 Traceback (most recent call last)",
      "Cell \u001b[0;32mIn[2], line 1\u001b[0m\n\u001b[0;32m----> 1\u001b[0m pycxsimulator\u001b[38;5;241m.\u001b[39mGUI(QT_QPA_PLATFORM\u001b[38;5;241m=\u001b[39m\u001b[43mwayland\u001b[49m)\u001b[38;5;241m.\u001b[39mstart(func\u001b[38;5;241m=\u001b[39m[initialize, observe, update])\n",
      "\u001b[0;31mNameError\u001b[0m: name 'wayland' is not defined"
     ]
    }
   ],
   "source": [
    "\n",
    "pycxsimulator.GUI(`\n",
    ").start(func=[initialize, observe, update])"
   ]
  },
  {
   "cell_type": "code",
   "execution_count": null,
   "id": "e5e72a31-4ea9-4126-bd46-7447d49cf381",
   "metadata": {},
   "outputs": [],
   "source": []
  }
 ],
 "metadata": {
  "kernelspec": {
   "display_name": "ABM",
   "language": "python",
   "name": "abm"
  },
  "language_info": {
   "codemirror_mode": {
    "name": "ipython",
    "version": 3
   },
   "file_extension": ".py",
   "mimetype": "text/x-python",
   "name": "python",
   "nbconvert_exporter": "python",
   "pygments_lexer": "ipython3",
   "version": "3.10.12"
  }
 },
 "nbformat": 4,
 "nbformat_minor": 5
}
